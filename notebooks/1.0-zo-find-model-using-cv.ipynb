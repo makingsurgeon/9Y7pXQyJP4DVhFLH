{
 "cells": [
  {
   "cell_type": "code",
   "execution_count": 45,
   "id": "19f06a8e",
   "metadata": {},
   "outputs": [],
   "source": [
    "from sklearn import tree\n",
    "import pandas as pd\n",
    "from sklearn.feature_selection import RFE\n",
    "from sklearn.model_selection import cross_val_score"
   ]
  },
  {
   "cell_type": "markdown",
   "id": "d1bf73a5",
   "metadata": {},
   "source": [
    "### Load Data"
   ]
  },
  {
   "cell_type": "code",
   "execution_count": 46,
   "id": "b747258a",
   "metadata": {},
   "outputs": [],
   "source": [
    "a = pd.read_csv(\"ACME-HappinessSurvey2020.csv\")\n",
    "X = a.drop([\"Y\"], axis = 1)"
   ]
  },
  {
   "cell_type": "markdown",
   "id": "9c3b8576",
   "metadata": {},
   "source": [
    "### Select variables"
   ]
  },
  {
   "cell_type": "code",
   "execution_count": 47,
   "id": "3fd72234",
   "metadata": {},
   "outputs": [],
   "source": [
    "clf = tree.DecisionTreeClassifier(max_depth = 2, random_state = 0)\n",
    "rfe = RFE(clf, n_features_to_select = 3)\n",
    "fit = rfe.fit(X, Y)"
   ]
  },
  {
   "cell_type": "code",
   "execution_count": 48,
   "id": "866de7c7",
   "metadata": {},
   "outputs": [
    {
     "data": {
      "text/plain": [
       "array([ True, False, False, False,  True,  True])"
      ]
     },
     "execution_count": 48,
     "metadata": {},
     "output_type": "execute_result"
    }
   ],
   "source": [
    "fit.support_"
   ]
  },
  {
   "cell_type": "code",
   "execution_count": 49,
   "id": "15624bed",
   "metadata": {},
   "outputs": [],
   "source": [
    "X_new = X[[\"X1\", \"X5\", \"X6\"]]"
   ]
  },
  {
   "cell_type": "code",
   "execution_count": 50,
   "id": "62615e67",
   "metadata": {},
   "outputs": [],
   "source": [
    "scores = cross_val_score(model, X_new, Y, cv=5)"
   ]
  },
  {
   "cell_type": "code",
   "execution_count": 51,
   "id": "3bf9cc8e",
   "metadata": {},
   "outputs": [
    {
     "data": {
      "text/plain": [
       "array([0.61538462, 0.64      , 0.72      , 0.88      , 0.48      ])"
      ]
     },
     "execution_count": 51,
     "metadata": {},
     "output_type": "execute_result"
    }
   ],
   "source": [
    "scores"
   ]
  },
  {
   "cell_type": "markdown",
   "id": "fd4308f1",
   "metadata": {},
   "source": [
    "On average, this model will not reach 73% accuracy, but it is going to be simple to understand, since a decision tree is easily interpretable."
   ]
  },
  {
   "cell_type": "code",
   "execution_count": null,
   "id": "c949b25b",
   "metadata": {},
   "outputs": [],
   "source": []
  }
 ],
 "metadata": {
  "kernelspec": {
   "display_name": "Python 3 (ipykernel)",
   "language": "python",
   "name": "python3"
  },
  "language_info": {
   "codemirror_mode": {
    "name": "ipython",
    "version": 3
   },
   "file_extension": ".py",
   "mimetype": "text/x-python",
   "name": "python",
   "nbconvert_exporter": "python",
   "pygments_lexer": "ipython3",
   "version": "3.9.12"
  }
 },
 "nbformat": 4,
 "nbformat_minor": 5
}
